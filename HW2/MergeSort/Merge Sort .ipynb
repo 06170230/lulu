{
 "cells": [
  {
   "cell_type": "code",
   "execution_count": 10,
   "metadata": {},
   "outputs": [
    {
     "data": {
      "text/plain": [
       "[1, 2, 5, 6, 7, 9, 10, 11, 15, 20]"
      ]
     },
     "execution_count": 10,
     "metadata": {},
     "output_type": "execute_result"
    }
   ],
   "source": [
    "def mergeSort(list):\n",
    "    if len(list)>1:\n",
    "        mid = len(list)//2\n",
    "        left = list[:mid]\n",
    "        right = list[mid:]\n",
    "        i=0\n",
    "        j=0\n",
    "        a=0\n",
    "        # 下面兩段很重要一開始忘了呼叫mergeSort就跑迴圈了根本沒有意義! #\n",
    "        mergeSort(left)\n",
    "        mergeSort(right)\n",
    "        \n",
    "        while i < len(left) and j < len(right):\n",
    "            if left[i] <= right[j]:\n",
    "                list[a]=left[i]\n",
    "                i=i+1\n",
    "                a=a+1\n",
    "            else:\n",
    "                list[a]=right[j]\n",
    "                j=j+1\n",
    "                a=a+1\n",
    "        #下面這兩個while很重要，如果沒有加上來i、j比大小結束後剩下的最大值就沒有被加上來            \n",
    "        while i < len(left):\n",
    "            list[a]=left[i]\n",
    "            i=i+1\n",
    "            a=a+1\n",
    "\n",
    "        while j < len(right):\n",
    "            list[a]=right[j]\n",
    "            j=j+1\n",
    "            a=a+1\n",
    "                \n",
    "list=[1,5,9,7,2,6,15,20,10,11]\n",
    "mergeSort(list)\n",
    "list"
   ]
  },
  {
   "cell_type": "code",
   "execution_count": null,
   "metadata": {},
   "outputs": [],
   "source": []
  }
 ],
 "metadata": {
  "kernelspec": {
   "display_name": "Python 3",
   "language": "python",
   "name": "python3"
  },
  "language_info": {
   "codemirror_mode": {
    "name": "ipython",
    "version": 3
   },
   "file_extension": ".py",
   "mimetype": "text/x-python",
   "name": "python",
   "nbconvert_exporter": "python",
   "pygments_lexer": "ipython3",
   "version": "3.7.1"
  }
 },
 "nbformat": 4,
 "nbformat_minor": 2
}

{
 "cells": [
  {
   "cell_type": "code",
   "execution_count": 27,
   "metadata": {},
   "outputs": [
    {
     "data": {
      "text/plain": [
       "[1, 2, 4, 5, 6, 8, 9]"
      ]
     },
     "execution_count": 27,
     "metadata": {},
     "output_type": "execute_result"
    }
   ],
   "source": [
    "class Solution(object):\n",
    "     \n",
    "    def heap_sort(self, nums):\n",
    "        size = len(nums) \n",
    "        self.heapify(nums, size)\n",
    "        end = size-1\n",
    "        while(end > 0):\n",
    "            self.swap(nums, 0, end)\n",
    "            self.siftdown(nums, 0, end)\n",
    "            end = end-1\n",
    "        return nums\n",
    "            \n",
    "    def swap(self,nums,i,j):\n",
    "        nums[i],nums[j] = nums[j],nums[i] \n",
    "        \n",
    "  \n",
    "    \n",
    "    def siftdown(self,nums, i, size):\n",
    "        left = 2*i+1\n",
    "        right = 2*i+2\n",
    "        largest = i\n",
    "        if left <= size-1 and nums[left] > nums[i]:\n",
    "            largest = left\n",
    "        if right <= size-1 and nums[right] > nums[largest]:\n",
    "            largest = right\n",
    "        if largest != i:\n",
    "            self.swap(nums, i, largest)\n",
    "            self.siftdown(nums, largest, size)\n",
    "        \n",
    "        \n",
    "    def heapify(self,nums, size):\n",
    "        p = (size//2)-1\n",
    "        while p>=0:\n",
    "            self.siftdown(nums, p, size)\n",
    "            p = p-1\n",
    "            \n",
    "output=Solution().heap_sort([6,2,4,9,1,5,8])\n",
    "output\n",
    "    \n"
   ]
  },
  {
   "cell_type": "code",
   "execution_count": null,
   "metadata": {},
   "outputs": [],
   "source": []
  }
 ],
 "metadata": {
  "kernelspec": {
   "display_name": "Python 3",
   "language": "python",
   "name": "python3"
  },
  "language_info": {
   "codemirror_mode": {
    "name": "ipython",
    "version": 3
   },
   "file_extension": ".py",
   "mimetype": "text/x-python",
   "name": "python",
   "nbconvert_exporter": "python",
   "pygments_lexer": "ipython3",
   "version": "3.7.1"
  }
 },
 "nbformat": 4,
 "nbformat_minor": 2
}
